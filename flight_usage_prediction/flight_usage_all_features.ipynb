{
 "cells": [
  {
   "cell_type": "code",
   "execution_count": 49,
   "metadata": {},
   "outputs": [],
   "source": [
    "import pandas as pd\n",
    "import time\n",
    "from sklearn.compose import ColumnTransformer\n",
    "from sklearn.datasets import fetch_openml\n",
    "from sklearn.pipeline import Pipeline\n",
    "from sklearn.impute import SimpleImputer\n",
    "from sklearn.preprocessing import StandardScaler, OneHotEncoder, PolynomialFeatures, OrdinalEncoder\n",
    "from sklearn.tree import DecisionTreeClassifier\n",
    "from sklearn.linear_model import LogisticRegression\n",
    "from sklearn.neighbors import KNeighborsClassifier\n",
    "from sklearn.svm import SVC\n",
    "from sklearn.metrics import accuracy_score, f1_score, recall_score\n",
    "from sklearn.model_selection import train_test_split\n",
    "\n",
    "import pandas as pd\n",
    "import numpy as np\n",
    "import ydata_profiling as df_report\n",
    "\n",
    "from sklearn.metrics import make_scorer, recall_score, precision_score, f1_score\n",
    "import seaborn as sns\n",
    "import plotly.express as px\n",
    "import matplotlib as plt\n",
    "\n",
    "from sklearn.preprocessing import OneHotEncoder\n",
    "from sklearn.compose import make_column_transformer\n",
    "from sklearn.dummy import DummyClassifier\n",
    "from imblearn.over_sampling import SMOTE\n",
    "from sklearn.model_selection import GridSearchCV\n",
    "from sklearn.metrics import roc_curve, roc_auc_score\n",
    "from sklearn.preprocessing import StandardScaler\n",
    "from sklearn.metrics import confusion_matrix\n",
    "from sklearn.metrics import classification_report\n",
    "from sklearn.preprocessing import LabelBinarizer\n",
    "from datetime import datetime\n",
    "import sweetviz as sv\n",
    "from sklearn.metrics import auc\n",
    "import warnings\n",
    "warnings.simplefilter(action='ignore', category=FutureWarning)\n",
    "import matplotlib.pyplot as plt\n",
    "from sklearn.metrics import auc\n",
    "import kds\n",
    "from pytz import timezone\n",
    "from tzfpy import get_tz, get_tzs\n",
    "\n",
    "from sklearn.compose import ColumnTransformer, make_column_transformer\n",
    "from sklearn.preprocessing import StandardScaler, OneHotEncoder\n",
    "from sklearn.linear_model import LogisticRegression,Ridge\n",
    "from sklearn.metrics import mean_squared_error,r2_score\n",
    "from sklearn.ensemble import RandomForestRegressor\n",
    "from sklearn.linear_model import LinearRegression, Ridge, Lasso\n",
    "from sklearn.ensemble import RandomForestRegressor\n",
    "from sklearn.svm import SVR\n"
   ]
  },
  {
   "attachments": {},
   "cell_type": "markdown",
   "metadata": {},
   "source": [
    "### Load data from private dataset and public dataset"
   ]
  },
  {
   "cell_type": "code",
   "execution_count": 50,
   "metadata": {},
   "outputs": [
    {
     "data": {
      "text/html": [
       "<div>\n",
       "<style scoped>\n",
       "    .dataframe tbody tr th:only-of-type {\n",
       "        vertical-align: middle;\n",
       "    }\n",
       "\n",
       "    .dataframe tbody tr th {\n",
       "        vertical-align: top;\n",
       "    }\n",
       "\n",
       "    .dataframe thead th {\n",
       "        text-align: right;\n",
       "    }\n",
       "</style>\n",
       "<table border=\"1\" class=\"dataframe\">\n",
       "  <thead>\n",
       "    <tr style=\"text-align: right;\">\n",
       "      <th></th>\n",
       "      <th>AIRLINE</th>\n",
       "      <th>TAIL_ID</th>\n",
       "      <th>USAGE_TSTAMP</th>\n",
       "      <th>PREMIUM_PRODUCT</th>\n",
       "      <th>ESI_PRODUCT</th>\n",
       "      <th>TMO_PRODUCT</th>\n",
       "      <th>BASIC_PRODUCT</th>\n",
       "      <th>OTHER_PRODUCT</th>\n",
       "      <th>DOOR_CLOSE_TSTAMP</th>\n",
       "      <th>DOOR_OPEN_PLUS15_TSTAMP</th>\n",
       "      <th>TIME_INTO_FLIGHT</th>\n",
       "      <th>FLIGHT_PHASE</th>\n",
       "      <th>LATITUDE</th>\n",
       "      <th>LONGITUDE</th>\n",
       "      <th>ALTITUDE</th>\n",
       "      <th>TOTAL_FL_MBPS</th>\n",
       "      <th>TOTAL_RL_MBPS</th>\n",
       "      <th>SEAT_CAPACITY</th>\n",
       "      <th>ECO_SEATS</th>\n",
       "    </tr>\n",
       "  </thead>\n",
       "  <tbody>\n",
       "    <tr>\n",
       "      <th>0</th>\n",
       "      <td>DAL</td>\n",
       "      <td>N863DN</td>\n",
       "      <td>2023-05-10T19:00:00Z</td>\n",
       "      <td>1</td>\n",
       "      <td>0</td>\n",
       "      <td>0</td>\n",
       "      <td>0</td>\n",
       "      <td>1</td>\n",
       "      <td>2023-05-10T15:05:57.391Z</td>\n",
       "      <td>2023-05-10T20:20:15.399Z</td>\n",
       "      <td>235.0</td>\n",
       "      <td>10k</td>\n",
       "      <td>36.28</td>\n",
       "      <td>-87.80</td>\n",
       "      <td>36522.25</td>\n",
       "      <td>0.02</td>\n",
       "      <td>0.0</td>\n",
       "      <td>180.0</td>\n",
       "      <td>160.0</td>\n",
       "    </tr>\n",
       "    <tr>\n",
       "      <th>1</th>\n",
       "      <td>JBU-R</td>\n",
       "      <td>N3121J</td>\n",
       "      <td>2023-05-10T18:55:00Z</td>\n",
       "      <td>0</td>\n",
       "      <td>1</td>\n",
       "      <td>0</td>\n",
       "      <td>0</td>\n",
       "      <td>1</td>\n",
       "      <td>2023-05-10T16:01:41.626Z</td>\n",
       "      <td>2023-05-10T20:12:55.856Z</td>\n",
       "      <td>174.0</td>\n",
       "      <td>10k</td>\n",
       "      <td>42.18</td>\n",
       "      <td>-78.53</td>\n",
       "      <td>33049.88</td>\n",
       "      <td>0.01</td>\n",
       "      <td>0.0</td>\n",
       "      <td>150.0</td>\n",
       "      <td>108.0</td>\n",
       "    </tr>\n",
       "  </tbody>\n",
       "</table>\n",
       "</div>"
      ],
      "text/plain": [
       "  AIRLINE TAIL_ID          USAGE_TSTAMP  PREMIUM_PRODUCT  ESI_PRODUCT  \\\n",
       "0     DAL  N863DN  2023-05-10T19:00:00Z                1            0   \n",
       "1   JBU-R  N3121J  2023-05-10T18:55:00Z                0            1   \n",
       "\n",
       "   TMO_PRODUCT  BASIC_PRODUCT  OTHER_PRODUCT         DOOR_CLOSE_TSTAMP  \\\n",
       "0            0              0              1  2023-05-10T15:05:57.391Z   \n",
       "1            0              0              1  2023-05-10T16:01:41.626Z   \n",
       "\n",
       "    DOOR_OPEN_PLUS15_TSTAMP  TIME_INTO_FLIGHT FLIGHT_PHASE  LATITUDE  \\\n",
       "0  2023-05-10T20:20:15.399Z             235.0          10k     36.28   \n",
       "1  2023-05-10T20:12:55.856Z             174.0          10k     42.18   \n",
       "\n",
       "   LONGITUDE  ALTITUDE  TOTAL_FL_MBPS  TOTAL_RL_MBPS  SEAT_CAPACITY  ECO_SEATS  \n",
       "0     -87.80  36522.25           0.02            0.0          180.0      160.0  \n",
       "1     -78.53  33049.88           0.01            0.0          150.0      108.0  "
      ]
     },
     "metadata": {},
     "output_type": "display_data"
    },
    {
     "data": {
      "text/html": [
       "<div>\n",
       "<style scoped>\n",
       "    .dataframe tbody tr th:only-of-type {\n",
       "        vertical-align: middle;\n",
       "    }\n",
       "\n",
       "    .dataframe tbody tr th {\n",
       "        vertical-align: top;\n",
       "    }\n",
       "\n",
       "    .dataframe thead th {\n",
       "        text-align: right;\n",
       "    }\n",
       "</style>\n",
       "<table border=\"1\" class=\"dataframe\">\n",
       "  <thead>\n",
       "    <tr style=\"text-align: right;\">\n",
       "      <th></th>\n",
       "      <th>ID</th>\n",
       "      <th>OBS_DATE</th>\n",
       "      <th>ASM_US_D_I</th>\n",
       "      <th>ASM_D</th>\n",
       "      <th>ASM_I</th>\n",
       "      <th>LOAD_FACTOR_D_PCT_US</th>\n",
       "      <th>LOAD_FACTOR_I_PCT_US</th>\n",
       "    </tr>\n",
       "  </thead>\n",
       "  <tbody>\n",
       "    <tr>\n",
       "      <th>0</th>\n",
       "      <td>SATD200001</td>\n",
       "      <td>1/1/00</td>\n",
       "      <td>76146639.0</td>\n",
       "      <td>56288872.0</td>\n",
       "      <td>19857767.0</td>\n",
       "      <td>62.0</td>\n",
       "      <td>67.2</td>\n",
       "    </tr>\n",
       "    <tr>\n",
       "      <th>1</th>\n",
       "      <td>SATD200002</td>\n",
       "      <td>2/1/00</td>\n",
       "      <td>73011377.0</td>\n",
       "      <td>54329819.0</td>\n",
       "      <td>18681558.0</td>\n",
       "      <td>66.3</td>\n",
       "      <td>67.3</td>\n",
       "    </tr>\n",
       "  </tbody>\n",
       "</table>\n",
       "</div>"
      ],
      "text/plain": [
       "           ID OBS_DATE  ASM_US_D_I       ASM_D       ASM_I  \\\n",
       "0  SATD200001   1/1/00  76146639.0  56288872.0  19857767.0   \n",
       "1  SATD200002   2/1/00  73011377.0  54329819.0  18681558.0   \n",
       "\n",
       "   LOAD_FACTOR_D_PCT_US  LOAD_FACTOR_I_PCT_US  \n",
       "0                  62.0                  67.2  \n",
       "1                  66.3                  67.3  "
      ]
     },
     "metadata": {},
     "output_type": "display_data"
    }
   ],
   "source": [
    "df_usage = pd.read_csv('data/usage_data_all_features.csv')\n",
    "display(df_usage.head(2))\n",
    "df_airtraffic_trends = pd.read_csv('data/Airline_Transportation_Data.csv')\n",
    "display(df_airtraffic_trends.head(2))"
   ]
  },
  {
   "attachments": {},
   "cell_type": "markdown",
   "metadata": {},
   "source": [
    "### Performing column re-names, EDA,Data Cleaning, Feature Engineering and Feature Selection "
   ]
  },
  {
   "cell_type": "code",
   "execution_count": 52,
   "metadata": {},
   "outputs": [
    {
     "data": {
      "text/html": [
       "<div>\n",
       "<style scoped>\n",
       "    .dataframe tbody tr th:only-of-type {\n",
       "        vertical-align: middle;\n",
       "    }\n",
       "\n",
       "    .dataframe tbody tr th {\n",
       "        vertical-align: top;\n",
       "    }\n",
       "\n",
       "    .dataframe thead th {\n",
       "        text-align: right;\n",
       "    }\n",
       "</style>\n",
       "<table border=\"1\" class=\"dataframe\">\n",
       "  <thead>\n",
       "    <tr style=\"text-align: right;\">\n",
       "      <th></th>\n",
       "      <th>month</th>\n",
       "      <th>aggr_seat_miles_domestic_and_international</th>\n",
       "      <th>load_factor_domestic_pct_us</th>\n",
       "    </tr>\n",
       "  </thead>\n",
       "  <tbody>\n",
       "    <tr>\n",
       "      <th>0</th>\n",
       "      <td>2000-01-01</td>\n",
       "      <td>76146639.0</td>\n",
       "      <td>62.0</td>\n",
       "    </tr>\n",
       "    <tr>\n",
       "      <th>1</th>\n",
       "      <td>2000-02-01</td>\n",
       "      <td>73011377.0</td>\n",
       "      <td>66.3</td>\n",
       "    </tr>\n",
       "  </tbody>\n",
       "</table>\n",
       "</div>"
      ],
      "text/plain": [
       "       month  aggr_seat_miles_domestic_and_international  \\\n",
       "0 2000-01-01                                  76146639.0   \n",
       "1 2000-02-01                                  73011377.0   \n",
       "\n",
       "   load_factor_domestic_pct_us  \n",
       "0                         62.0  \n",
       "1                         66.3  "
      ]
     },
     "metadata": {},
     "output_type": "display_data"
    },
    {
     "data": {
      "text/html": [
       "<div>\n",
       "<style scoped>\n",
       "    .dataframe tbody tr th:only-of-type {\n",
       "        vertical-align: middle;\n",
       "    }\n",
       "\n",
       "    .dataframe tbody tr th {\n",
       "        vertical-align: top;\n",
       "    }\n",
       "\n",
       "    .dataframe thead th {\n",
       "        text-align: right;\n",
       "    }\n",
       "</style>\n",
       "<table border=\"1\" class=\"dataframe\">\n",
       "  <thead>\n",
       "    <tr style=\"text-align: right;\">\n",
       "      <th></th>\n",
       "      <th>airline</th>\n",
       "      <th>usage_tstamp</th>\n",
       "      <th>premium_product</th>\n",
       "      <th>esi_product</th>\n",
       "      <th>tmo_product</th>\n",
       "      <th>basic_product</th>\n",
       "      <th>other_product</th>\n",
       "      <th>time_into_flight</th>\n",
       "      <th>flight_phase</th>\n",
       "      <th>latitude</th>\n",
       "      <th>longitude</th>\n",
       "      <th>altitude</th>\n",
       "      <th>total_fl_mbps</th>\n",
       "      <th>total_rl_mbps</th>\n",
       "      <th>seat_capacity</th>\n",
       "      <th>eco_seats</th>\n",
       "      <th>pct_flight_completed</th>\n",
       "      <th>free_model</th>\n",
       "    </tr>\n",
       "  </thead>\n",
       "  <tbody>\n",
       "    <tr>\n",
       "      <th>1165305</th>\n",
       "      <td>DAL</td>\n",
       "      <td>2023-05-02 14:45:00+00:00</td>\n",
       "      <td>1</td>\n",
       "      <td>0</td>\n",
       "      <td>0</td>\n",
       "      <td>0</td>\n",
       "      <td>1</td>\n",
       "      <td>71.0</td>\n",
       "      <td>10k</td>\n",
       "      <td>42.52</td>\n",
       "      <td>-81.32</td>\n",
       "      <td>28628.25</td>\n",
       "      <td>13.38</td>\n",
       "      <td>1.27</td>\n",
       "      <td>191.0</td>\n",
       "      <td>118.0</td>\n",
       "      <td>0.606051</td>\n",
       "      <td>1</td>\n",
       "    </tr>\n",
       "    <tr>\n",
       "      <th>1589457</th>\n",
       "      <td>DAL</td>\n",
       "      <td>2023-05-04 21:10:00+00:00</td>\n",
       "      <td>1</td>\n",
       "      <td>0</td>\n",
       "      <td>0</td>\n",
       "      <td>0</td>\n",
       "      <td>1</td>\n",
       "      <td>28.0</td>\n",
       "      <td>10k</td>\n",
       "      <td>36.01</td>\n",
       "      <td>-116.07</td>\n",
       "      <td>24660.75</td>\n",
       "      <td>14.94</td>\n",
       "      <td>1.57</td>\n",
       "      <td>157.0</td>\n",
       "      <td>123.0</td>\n",
       "      <td>0.159854</td>\n",
       "      <td>1</td>\n",
       "    </tr>\n",
       "  </tbody>\n",
       "</table>\n",
       "</div>"
      ],
      "text/plain": [
       "        airline              usage_tstamp  premium_product  esi_product  \\\n",
       "1165305     DAL 2023-05-02 14:45:00+00:00                1            0   \n",
       "1589457     DAL 2023-05-04 21:10:00+00:00                1            0   \n",
       "\n",
       "         tmo_product  basic_product  other_product  time_into_flight  \\\n",
       "1165305            0              0              1              71.0   \n",
       "1589457            0              0              1              28.0   \n",
       "\n",
       "        flight_phase  latitude  longitude  altitude  total_fl_mbps  \\\n",
       "1165305          10k     42.52     -81.32  28628.25          13.38   \n",
       "1589457          10k     36.01    -116.07  24660.75          14.94   \n",
       "\n",
       "         total_rl_mbps  seat_capacity  eco_seats  pct_flight_completed  \\\n",
       "1165305           1.27          191.0      118.0              0.606051   \n",
       "1589457           1.57          157.0      123.0              0.159854   \n",
       "\n",
       "         free_model  \n",
       "1165305           1  \n",
       "1589457           1  "
      ]
     },
     "metadata": {},
     "output_type": "display_data"
    }
   ],
   "source": [
    "\n",
    "df_airtraffic_trends.rename(columns={'OBS_DATE': 'Month','ASM_US_D_I':'Aggr_seat_miles_domestic_and_international','LOAD_FACTOR_D_PCT_US':'Load_factor_domestic_pct_us'}, inplace=True)\n",
    "df_airtraffic_trends.drop(['ID','ASM_D','ASM_I','LOAD_FACTOR_I_PCT_US'], axis=1, inplace=True)\n",
    "df_airtraffic_trends['Month'] = pd.to_datetime(df_airtraffic_trends['Month'])\n",
    "df_usage.columns = df_usage.columns.str.lower()\n",
    "df_airtraffic_trends.columns = df_airtraffic_trends.columns.str.lower()\n",
    "df_usage['usage_tstamp'] = pd.to_datetime(df_usage['usage_tstamp'])\n",
    "df_usage['door_close_tstamp'] = pd.to_datetime(df_usage['door_close_tstamp'])\n",
    "df_usage['door_open_plus15_tstamp'] = pd.to_datetime(df_usage['door_open_plus15_tstamp'])\n",
    "\n",
    "# Based on several iterations of the EDA, it felt like I need to come up with a new feature which is percentage of flight completed \n",
    "# and need to find all time related variables in local time than in utc. Used lat,lon to convert time to local timezone.\n",
    "# Dropped all rows with null vallues for lat,long\n",
    "\n",
    "df_usage['pct_flight_completed'] = df_usage['time_into_flight']/((df_usage['door_open_plus15_tstamp'] - df_usage['door_close_tstamp']).dt.total_seconds() / 60)\n",
    "df_usage.drop(['tail_id','door_close_tstamp','door_open_plus15_tstamp'], axis=1, inplace=True)\n",
    "df_usage.dropna(subset=['latitude','longitude','seat_capacity','eco_seats','airline'],inplace=True)\n",
    "df_usage['free_model'] = df_usage['airline'].apply(lambda x: 1 if x in ['DAL','JBU','JBU-R','QFA'] else 0)\n",
    "# The initial data set had a lot of datapoints, so I sampled 1% of the data to do the EDA and build the model\n",
    "df_usage_sampled = df_usage.sample(frac=0.5, random_state=42,replace=False)\n",
    "\n",
    "display(df_airtraffic_trends.head(2))\n",
    "display(df_usage_sampled.head(2))"
   ]
  },
  {
   "cell_type": "code",
   "execution_count": 53,
   "metadata": {},
   "outputs": [
    {
     "data": {
      "text/html": [
       "<div>\n",
       "<style scoped>\n",
       "    .dataframe tbody tr th:only-of-type {\n",
       "        vertical-align: middle;\n",
       "    }\n",
       "\n",
       "    .dataframe tbody tr th {\n",
       "        vertical-align: top;\n",
       "    }\n",
       "\n",
       "    .dataframe thead th {\n",
       "        text-align: right;\n",
       "    }\n",
       "</style>\n",
       "<table border=\"1\" class=\"dataframe\">\n",
       "  <thead>\n",
       "    <tr style=\"text-align: right;\">\n",
       "      <th></th>\n",
       "      <th>airline</th>\n",
       "      <th>usage_tstamp</th>\n",
       "      <th>premium_product</th>\n",
       "      <th>esi_product</th>\n",
       "      <th>tmo_product</th>\n",
       "      <th>basic_product</th>\n",
       "      <th>other_product</th>\n",
       "      <th>time_into_flight</th>\n",
       "      <th>flight_phase</th>\n",
       "      <th>latitude</th>\n",
       "      <th>...</th>\n",
       "      <th>eco_seats</th>\n",
       "      <th>pct_flight_completed</th>\n",
       "      <th>free_model</th>\n",
       "      <th>usage_utc_hour</th>\n",
       "      <th>usage_month</th>\n",
       "      <th>usage_utc_day</th>\n",
       "      <th>usage_tz</th>\n",
       "      <th>usage_local_hour</th>\n",
       "      <th>usage_local_hour_shifted</th>\n",
       "      <th>usage_local_day</th>\n",
       "    </tr>\n",
       "  </thead>\n",
       "  <tbody>\n",
       "    <tr>\n",
       "      <th>1165305</th>\n",
       "      <td>DAL</td>\n",
       "      <td>2023-05-02 14:45:00+00:00</td>\n",
       "      <td>1</td>\n",
       "      <td>0</td>\n",
       "      <td>0</td>\n",
       "      <td>0</td>\n",
       "      <td>1</td>\n",
       "      <td>71.0</td>\n",
       "      <td>10k</td>\n",
       "      <td>42.52</td>\n",
       "      <td>...</td>\n",
       "      <td>118.0</td>\n",
       "      <td>0.606051</td>\n",
       "      <td>1</td>\n",
       "      <td>14</td>\n",
       "      <td>May</td>\n",
       "      <td>Tuesday</td>\n",
       "      <td>America/Toronto</td>\n",
       "      <td>10</td>\n",
       "      <td>7</td>\n",
       "      <td>Tuesday</td>\n",
       "    </tr>\n",
       "    <tr>\n",
       "      <th>1589457</th>\n",
       "      <td>DAL</td>\n",
       "      <td>2023-05-04 21:10:00+00:00</td>\n",
       "      <td>1</td>\n",
       "      <td>0</td>\n",
       "      <td>0</td>\n",
       "      <td>0</td>\n",
       "      <td>1</td>\n",
       "      <td>28.0</td>\n",
       "      <td>10k</td>\n",
       "      <td>36.01</td>\n",
       "      <td>...</td>\n",
       "      <td>123.0</td>\n",
       "      <td>0.159854</td>\n",
       "      <td>1</td>\n",
       "      <td>21</td>\n",
       "      <td>May</td>\n",
       "      <td>Thursday</td>\n",
       "      <td>America/Los_Angeles</td>\n",
       "      <td>14</td>\n",
       "      <td>11</td>\n",
       "      <td>Thursday</td>\n",
       "    </tr>\n",
       "  </tbody>\n",
       "</table>\n",
       "<p>2 rows × 25 columns</p>\n",
       "</div>"
      ],
      "text/plain": [
       "        airline              usage_tstamp  premium_product  esi_product  \\\n",
       "1165305     DAL 2023-05-02 14:45:00+00:00                1            0   \n",
       "1589457     DAL 2023-05-04 21:10:00+00:00                1            0   \n",
       "\n",
       "         tmo_product  basic_product  other_product  time_into_flight  \\\n",
       "1165305            0              0              1              71.0   \n",
       "1589457            0              0              1              28.0   \n",
       "\n",
       "        flight_phase  latitude  ...  eco_seats  pct_flight_completed  \\\n",
       "1165305          10k     42.52  ...      118.0              0.606051   \n",
       "1589457          10k     36.01  ...      123.0              0.159854   \n",
       "\n",
       "         free_model  usage_utc_hour  usage_month  usage_utc_day  \\\n",
       "1165305           1              14          May        Tuesday   \n",
       "1589457           1              21          May       Thursday   \n",
       "\n",
       "                    usage_tz  usage_local_hour  usage_local_hour_shifted  \\\n",
       "1165305      America/Toronto                10                         7   \n",
       "1589457  America/Los_Angeles                14                        11   \n",
       "\n",
       "        usage_local_day  \n",
       "1165305         Tuesday  \n",
       "1589457        Thursday  \n",
       "\n",
       "[2 rows x 25 columns]"
      ]
     },
     "metadata": {},
     "output_type": "display_data"
    }
   ],
   "source": [
    "# Performing timezone trasnlations to get local time as well as hour of day and day of week\n",
    "\n",
    "df_usage_sampled['usage_utc_hour'] = df_usage_sampled['usage_tstamp'].dt.hour\n",
    "df_usage_sampled['usage_month']=df_usage_sampled['usage_tstamp'].dt.month_name()\n",
    "df_usage_sampled['usage_utc_day']=df_usage_sampled['usage_tstamp'].dt.day_name()\n",
    "\n",
    "def local_time_mapper(x):\n",
    "    return get_tz(lat=x['latitude'], lng=x['longitude'])\n",
    "\n",
    "\n",
    "df_usage_sampled['usage_tz'] = df_usage_sampled.apply(lambda x: local_time_mapper(x), axis=1)\n",
    "\n",
    "# Throwing away few rows which had no timezone look up, very small numebr of rows\n",
    "df_usage_sampled = df_usage_sampled[df_usage_sampled['usage_tz']!='']\n",
    "\n",
    "# Converting utc time to local time based on the timezone and then getting the local hour of the day and day of the week\n",
    "\n",
    "df_usage_sampled['usage_local_hour'] = df_usage_sampled.apply(lambda row: row['usage_tstamp'].tz_convert(timezone(row['usage_tz'])).hour, axis=1)\n",
    "df_usage_sampled['usage_local_hour_shifted'] = df_usage_sampled['usage_local_hour'].apply(lambda x: (pd.Timedelta(hours=x) + pd.Timedelta(hours=-3)).components.hours)\n",
    "df_usage_sampled['usage_local_day'] = df_usage_sampled.apply(lambda row: row['usage_tstamp'].tz_convert(timezone(row['usage_tz'])).strftime(\"%A\"), axis=1)\n",
    "\n",
    "display(df_usage_sampled.head(2))"
   ]
  },
  {
   "cell_type": "code",
   "execution_count": 54,
   "metadata": {},
   "outputs": [
    {
     "data": {
      "application/vnd.jupyter.widget-view+json": {
       "model_id": "6a1a31032d114575b75201759eac8d07",
       "version_major": 2,
       "version_minor": 0
      },
      "text/plain": [
       "                                             |          | [  0%]   00:00 -> (? left)"
      ]
     },
     "metadata": {},
     "output_type": "display_data"
    },
    {
     "name": "stdout",
     "output_type": "stream",
     "text": [
      "Report eda-viz/df_usage_per_tail_seatcapacity_eda_report.html was generated! NOTEBOOK/COLAB USERS: the web browser MAY not pop up, regardless, the report IS saved in your notebook/colab files.\n"
     ]
    }
   ],
   "source": [
    "# Dropping un-wanted rows before doing one more final round of eda through sweetviz\n",
    "\n",
    "df_usage_sampled.drop(['usage_tstamp','usage_tz'], axis=1, inplace=True)\n",
    "\n",
    "df_usage_eda_report = sv.analyze(df_usage_sampled, target_feat='total_fl_mbps')\n",
    "df_usage_eda_report.show_html('eda-viz/df_usage_per_tail_seatcapacity_eda_report.html')\n"
   ]
  },
  {
   "cell_type": "code",
   "execution_count": 55,
   "metadata": {},
   "outputs": [
    {
     "name": "stdout",
     "output_type": "stream",
     "text": [
      "<class 'pandas.core.frame.DataFrame'>\n",
      "Int64Index: 14924 entries, 1165305 to 2205584\n",
      "Data columns (total 18 columns):\n",
      " #   Column                    Non-Null Count  Dtype  \n",
      "---  ------                    --------------  -----  \n",
      " 0   airline                   14924 non-null  object \n",
      " 1   premium_product           14924 non-null  int64  \n",
      " 2   esi_product               14924 non-null  int64  \n",
      " 3   tmo_product               14924 non-null  int64  \n",
      " 4   basic_product             14924 non-null  int64  \n",
      " 5   other_product             14924 non-null  int64  \n",
      " 6   time_into_flight          14924 non-null  float64\n",
      " 7   flight_phase              14924 non-null  object \n",
      " 8   latitude                  14924 non-null  float64\n",
      " 9   longitude                 14924 non-null  float64\n",
      " 10  altitude                  14924 non-null  float64\n",
      " 11  total_fl_mbps             14924 non-null  float64\n",
      " 12  seat_capacity             14924 non-null  float64\n",
      " 13  eco_seats                 14924 non-null  float64\n",
      " 14  pct_flight_completed      14924 non-null  float64\n",
      " 15  free_model                14924 non-null  int64  \n",
      " 16  usage_local_hour_shifted  14924 non-null  int64  \n",
      " 17  usage_local_day           14924 non-null  object \n",
      "dtypes: float64(8), int64(7), object(3)\n",
      "memory usage: 2.2+ MB\n"
     ]
    }
   ],
   "source": [
    "# Based on the output of the FInal run of eda, dropping unwanted columns as well as columns which are not available at the time of prediction ('total_rl_mbps')\n",
    "df_usage_sampled.drop(columns=['usage_utc_day','usage_utc_hour','usage_local_hour','usage_month','total_rl_mbps'],inplace=True)\n",
    "df_usage_sampled.info()"
   ]
  },
  {
   "cell_type": "code",
   "execution_count": 56,
   "metadata": {},
   "outputs": [],
   "source": [
    "# Converting local_hour and pct flight completed to categorical variables based on the output of final eda run\n",
    "df_usage_sampled['usage_local_hour_shifted'] = df_usage_sampled['usage_local_hour_shifted'].astype('str')\n",
    "df_usage_sampled['pct_flight_completed'] = round((100*df_usage_sampled['pct_flight_completed']/10),0).astype('str')"
   ]
  },
  {
   "cell_type": "code",
   "execution_count": 57,
   "metadata": {},
   "outputs": [],
   "source": [
    "#throwing outliers in total_fl_mbps which are between 0.1 and  99.5th percentile\n",
    "df_usage_sampled = df_usage_sampled[ ( df_usage_sampled['total_fl_mbps']<df_usage_sampled['total_fl_mbps'].quantile(0.995)) & (df_usage_sampled['total_fl_mbps']>df_usage_sampled['total_fl_mbps'].quantile(0.001)) ]"
   ]
  },
  {
   "cell_type": "code",
   "execution_count": 58,
   "metadata": {},
   "outputs": [
    {
     "name": "stdout",
     "output_type": "stream",
     "text": [
      "Index(['premium_product', 'esi_product', 'tmo_product', 'basic_product',\n",
      "       'other_product', 'time_into_flight', 'latitude', 'longitude',\n",
      "       'altitude', 'total_fl_mbps', 'seat_capacity', 'eco_seats',\n",
      "       'free_model'],\n",
      "      dtype='object')\n",
      "Index(['airline', 'flight_phase', 'pct_flight_completed',\n",
      "       'usage_local_hour_shifted', 'usage_local_day'],\n",
      "      dtype='object')\n"
     ]
    },
    {
     "data": {
      "text/html": [
       "<div>\n",
       "<style scoped>\n",
       "    .dataframe tbody tr th:only-of-type {\n",
       "        vertical-align: middle;\n",
       "    }\n",
       "\n",
       "    .dataframe tbody tr th {\n",
       "        vertical-align: top;\n",
       "    }\n",
       "\n",
       "    .dataframe thead th {\n",
       "        text-align: right;\n",
       "    }\n",
       "</style>\n",
       "<table border=\"1\" class=\"dataframe\">\n",
       "  <thead>\n",
       "    <tr style=\"text-align: right;\">\n",
       "      <th></th>\n",
       "      <th>ohe__airline_DAL</th>\n",
       "      <th>ohe__flight_phase_10k</th>\n",
       "      <th>ohe__flight_phase_g2g</th>\n",
       "      <th>ohe__flight_phase_wow2wow</th>\n",
       "      <th>ohe__usage_local_day_Friday</th>\n",
       "      <th>ohe__usage_local_day_Monday</th>\n",
       "      <th>ohe__usage_local_day_Saturday</th>\n",
       "      <th>ohe__usage_local_day_Sunday</th>\n",
       "      <th>ohe__usage_local_day_Thursday</th>\n",
       "      <th>ohe__usage_local_day_Tuesday</th>\n",
       "      <th>...</th>\n",
       "      <th>remainder__premium_product</th>\n",
       "      <th>remainder__esi_product</th>\n",
       "      <th>remainder__tmo_product</th>\n",
       "      <th>remainder__basic_product</th>\n",
       "      <th>remainder__other_product</th>\n",
       "      <th>remainder__time_into_flight</th>\n",
       "      <th>remainder__latitude</th>\n",
       "      <th>remainder__longitude</th>\n",
       "      <th>total_fl_mbps</th>\n",
       "      <th>remainder__free_model</th>\n",
       "    </tr>\n",
       "  </thead>\n",
       "  <tbody>\n",
       "    <tr>\n",
       "      <th>1165305</th>\n",
       "      <td>1.0</td>\n",
       "      <td>1.0</td>\n",
       "      <td>0.0</td>\n",
       "      <td>0.0</td>\n",
       "      <td>0.0</td>\n",
       "      <td>0.0</td>\n",
       "      <td>0.0</td>\n",
       "      <td>0.0</td>\n",
       "      <td>0.0</td>\n",
       "      <td>1.0</td>\n",
       "      <td>...</td>\n",
       "      <td>1</td>\n",
       "      <td>0</td>\n",
       "      <td>0</td>\n",
       "      <td>0</td>\n",
       "      <td>1</td>\n",
       "      <td>71.0</td>\n",
       "      <td>42.52</td>\n",
       "      <td>-81.32</td>\n",
       "      <td>13.38</td>\n",
       "      <td>1</td>\n",
       "    </tr>\n",
       "    <tr>\n",
       "      <th>1589457</th>\n",
       "      <td>1.0</td>\n",
       "      <td>1.0</td>\n",
       "      <td>0.0</td>\n",
       "      <td>0.0</td>\n",
       "      <td>0.0</td>\n",
       "      <td>0.0</td>\n",
       "      <td>0.0</td>\n",
       "      <td>0.0</td>\n",
       "      <td>1.0</td>\n",
       "      <td>0.0</td>\n",
       "      <td>...</td>\n",
       "      <td>1</td>\n",
       "      <td>0</td>\n",
       "      <td>0</td>\n",
       "      <td>0</td>\n",
       "      <td>1</td>\n",
       "      <td>28.0</td>\n",
       "      <td>36.01</td>\n",
       "      <td>-116.07</td>\n",
       "      <td>14.94</td>\n",
       "      <td>1</td>\n",
       "    </tr>\n",
       "  </tbody>\n",
       "</table>\n",
       "<p>2 rows × 70 columns</p>\n",
       "</div>"
      ],
      "text/plain": [
       "         ohe__airline_DAL  ohe__flight_phase_10k  ohe__flight_phase_g2g  \\\n",
       "1165305               1.0                    1.0                    0.0   \n",
       "1589457               1.0                    1.0                    0.0   \n",
       "\n",
       "         ohe__flight_phase_wow2wow  ohe__usage_local_day_Friday  \\\n",
       "1165305                        0.0                          0.0   \n",
       "1589457                        0.0                          0.0   \n",
       "\n",
       "         ohe__usage_local_day_Monday  ohe__usage_local_day_Saturday  \\\n",
       "1165305                          0.0                            0.0   \n",
       "1589457                          0.0                            0.0   \n",
       "\n",
       "         ohe__usage_local_day_Sunday  ohe__usage_local_day_Thursday  \\\n",
       "1165305                          0.0                            0.0   \n",
       "1589457                          0.0                            1.0   \n",
       "\n",
       "         ohe__usage_local_day_Tuesday  ...  remainder__premium_product  \\\n",
       "1165305                           1.0  ...                           1   \n",
       "1589457                           0.0  ...                           1   \n",
       "\n",
       "         remainder__esi_product  remainder__tmo_product  \\\n",
       "1165305                       0                       0   \n",
       "1589457                       0                       0   \n",
       "\n",
       "         remainder__basic_product  remainder__other_product  \\\n",
       "1165305                         0                         1   \n",
       "1589457                         0                         1   \n",
       "\n",
       "         remainder__time_into_flight  remainder__latitude  \\\n",
       "1165305                         71.0                42.52   \n",
       "1589457                         28.0                36.01   \n",
       "\n",
       "         remainder__longitude  total_fl_mbps  remainder__free_model  \n",
       "1165305                -81.32          13.38                      1  \n",
       "1589457               -116.07          14.94                      1  \n",
       "\n",
       "[2 rows x 70 columns]"
      ]
     },
     "metadata": {},
     "output_type": "display_data"
    }
   ],
   "source": [
    "# Applying column transformer to encode categorical variables and scale numeric variables\n",
    "\n",
    "# Get columns of integer or float type\n",
    "numeric_cols = df_usage_sampled.select_dtypes(include=['int64', 'float64']).columns\n",
    "print(numeric_cols)\n",
    "# Get columns of object type\n",
    "object_cols = df_usage_sampled.select_dtypes(include=['object']).columns\n",
    "print(object_cols)\n",
    "\n",
    "# Categorical feature columns to one-hot encode\n",
    "categorical_cols = ['airline','flight_phase','usage_local_day','pct_flight_completed','usage_local_hour_shifted','pct_flight_completed']\n",
    "# Numerical feature columns to standard scale\n",
    "numerical_cols = ['altitude','seat_capacity','eco_seats']\n",
    "\n",
    "# Create transformers for one-hot encoding and standard scaling\n",
    "column_trans = ColumnTransformer(\n",
    "    transformers=[\n",
    "        ('ohe',OneHotEncoder(sparse=False), categorical_cols),\n",
    "        ('std_scaled',StandardScaler(), numerical_cols),\n",
    "    ],\n",
    "    remainder='passthrough',\n",
    "    )\n",
    "column_trans.set_output(transform='pandas')\n",
    "transformed_data = column_trans.fit_transform(df_usage_sampled)\n",
    "df_usage_column_transformed = pd.DataFrame(transformed_data)\n",
    "\n",
    "df_usage_column_transformed.rename(columns={'remainder__total_fl_mbps':'total_fl_mbps'}, inplace=True)\n",
    "display(df_usage_column_transformed.head(2))"
   ]
  },
  {
   "cell_type": "code",
   "execution_count": 59,
   "metadata": {},
   "outputs": [
    {
     "name": "stdout",
     "output_type": "stream",
     "text": [
      "<class 'pandas.core.frame.DataFrame'>\n",
      "Int64Index: 14499 entries, 1165305 to 2205584\n",
      "Data columns (total 70 columns):\n",
      " #   Column                            Non-Null Count  Dtype  \n",
      "---  ------                            --------------  -----  \n",
      " 0   ohe__airline_DAL                  14499 non-null  float64\n",
      " 1   ohe__flight_phase_10k             14499 non-null  float64\n",
      " 2   ohe__flight_phase_g2g             14499 non-null  float64\n",
      " 3   ohe__flight_phase_wow2wow         14499 non-null  float64\n",
      " 4   ohe__usage_local_day_Friday       14499 non-null  float64\n",
      " 5   ohe__usage_local_day_Monday       14499 non-null  float64\n",
      " 6   ohe__usage_local_day_Saturday     14499 non-null  float64\n",
      " 7   ohe__usage_local_day_Sunday       14499 non-null  float64\n",
      " 8   ohe__usage_local_day_Thursday     14499 non-null  float64\n",
      " 9   ohe__usage_local_day_Tuesday      14499 non-null  float64\n",
      " 10  ohe__usage_local_day_Wednesday    14499 non-null  float64\n",
      " 11  ohe__pct_flight_completed_0.0     14499 non-null  float64\n",
      " 12  ohe__pct_flight_completed_1.0     14499 non-null  float64\n",
      " 13  ohe__pct_flight_completed_10.0    14499 non-null  float64\n",
      " 14  ohe__pct_flight_completed_2.0     14499 non-null  float64\n",
      " 15  ohe__pct_flight_completed_3.0     14499 non-null  float64\n",
      " 16  ohe__pct_flight_completed_4.0     14499 non-null  float64\n",
      " 17  ohe__pct_flight_completed_5.0     14499 non-null  float64\n",
      " 18  ohe__pct_flight_completed_6.0     14499 non-null  float64\n",
      " 19  ohe__pct_flight_completed_7.0     14499 non-null  float64\n",
      " 20  ohe__pct_flight_completed_8.0     14499 non-null  float64\n",
      " 21  ohe__pct_flight_completed_9.0     14499 non-null  float64\n",
      " 22  ohe__usage_local_hour_shifted_0   14499 non-null  float64\n",
      " 23  ohe__usage_local_hour_shifted_1   14499 non-null  float64\n",
      " 24  ohe__usage_local_hour_shifted_10  14499 non-null  float64\n",
      " 25  ohe__usage_local_hour_shifted_11  14499 non-null  float64\n",
      " 26  ohe__usage_local_hour_shifted_12  14499 non-null  float64\n",
      " 27  ohe__usage_local_hour_shifted_13  14499 non-null  float64\n",
      " 28  ohe__usage_local_hour_shifted_14  14499 non-null  float64\n",
      " 29  ohe__usage_local_hour_shifted_15  14499 non-null  float64\n",
      " 30  ohe__usage_local_hour_shifted_16  14499 non-null  float64\n",
      " 31  ohe__usage_local_hour_shifted_17  14499 non-null  float64\n",
      " 32  ohe__usage_local_hour_shifted_18  14499 non-null  float64\n",
      " 33  ohe__usage_local_hour_shifted_19  14499 non-null  float64\n",
      " 34  ohe__usage_local_hour_shifted_2   14499 non-null  float64\n",
      " 35  ohe__usage_local_hour_shifted_20  14499 non-null  float64\n",
      " 36  ohe__usage_local_hour_shifted_21  14499 non-null  float64\n",
      " 37  ohe__usage_local_hour_shifted_22  14499 non-null  float64\n",
      " 38  ohe__usage_local_hour_shifted_23  14499 non-null  float64\n",
      " 39  ohe__usage_local_hour_shifted_3   14499 non-null  float64\n",
      " 40  ohe__usage_local_hour_shifted_4   14499 non-null  float64\n",
      " 41  ohe__usage_local_hour_shifted_5   14499 non-null  float64\n",
      " 42  ohe__usage_local_hour_shifted_6   14499 non-null  float64\n",
      " 43  ohe__usage_local_hour_shifted_7   14499 non-null  float64\n",
      " 44  ohe__usage_local_hour_shifted_8   14499 non-null  float64\n",
      " 45  ohe__usage_local_hour_shifted_9   14499 non-null  float64\n",
      " 46  ohe__pct_flight_completed_0.0     14499 non-null  float64\n",
      " 47  ohe__pct_flight_completed_1.0     14499 non-null  float64\n",
      " 48  ohe__pct_flight_completed_10.0    14499 non-null  float64\n",
      " 49  ohe__pct_flight_completed_2.0     14499 non-null  float64\n",
      " 50  ohe__pct_flight_completed_3.0     14499 non-null  float64\n",
      " 51  ohe__pct_flight_completed_4.0     14499 non-null  float64\n",
      " 52  ohe__pct_flight_completed_5.0     14499 non-null  float64\n",
      " 53  ohe__pct_flight_completed_6.0     14499 non-null  float64\n",
      " 54  ohe__pct_flight_completed_7.0     14499 non-null  float64\n",
      " 55  ohe__pct_flight_completed_8.0     14499 non-null  float64\n",
      " 56  ohe__pct_flight_completed_9.0     14499 non-null  float64\n",
      " 57  std_scaled__altitude              14499 non-null  float64\n",
      " 58  std_scaled__seat_capacity         14499 non-null  float64\n",
      " 59  std_scaled__eco_seats             14499 non-null  float64\n",
      " 60  remainder__premium_product        14499 non-null  int64  \n",
      " 61  remainder__esi_product            14499 non-null  int64  \n",
      " 62  remainder__tmo_product            14499 non-null  int64  \n",
      " 63  remainder__basic_product          14499 non-null  int64  \n",
      " 64  remainder__other_product          14499 non-null  int64  \n",
      " 65  remainder__time_into_flight       14499 non-null  float64\n",
      " 66  remainder__latitude               14499 non-null  float64\n",
      " 67  remainder__longitude              14499 non-null  float64\n",
      " 68  total_fl_mbps                     14499 non-null  float64\n",
      " 69  remainder__free_model             14499 non-null  int64  \n",
      "dtypes: float64(64), int64(6)\n",
      "memory usage: 7.9 MB\n"
     ]
    },
    {
     "data": {
      "text/plain": [
       "None"
      ]
     },
     "metadata": {},
     "output_type": "display_data"
    }
   ],
   "source": [
    "# X_before_poly = df_usage_column_transformed.drop('total_fl_mbps', axis=1) \n",
    "# display(X_before_poly.shape)\n",
    "# display(X_before_poly.head())\n",
    "# poly_features = PolynomialFeatures(degree=2)\n",
    "# X_poly = poly_features.fit_transform(X_before_poly)\n",
    "# X = pd.DataFrame(X_poly, columns=poly_features.get_feature_names_out(X_before_poly.columns))\n",
    "\n",
    "# display(X.shape)\n",
    "# display(X.head())\n",
    "display(df_usage_column_transformed.info())\n"
   ]
  },
  {
   "cell_type": "code",
   "execution_count": 60,
   "metadata": {},
   "outputs": [
    {
     "name": "stdout",
     "output_type": "stream",
     "text": [
      "Fitting 5 folds for each of 1 candidates, totalling 5 fits\n",
      "[CV] END .................................................... total time=   0.1s\n",
      "[CV] END .................................................... total time=   0.1s\n",
      "[CV] END .................................................... total time=   0.1s\n",
      "[CV] END .................................................... total time=   0.1s\n",
      "[CV] END .................................................... total time=   0.1s\n",
      "Linear Regression: Best Parameters: {}, R2 Score: 0.33783898286255243\n",
      "Fitting 5 folds for each of 6 candidates, totalling 30 fits\n",
      "[CV] END ........................................alpha=0.001; total time=   0.0s\n",
      "[CV] END ........................................alpha=0.001; total time=   0.0s\n",
      "[CV] END ........................................alpha=0.001; total time=   0.0s\n",
      "[CV] END ........................................alpha=0.001; total time=   0.0s\n",
      "[CV] END ........................................alpha=0.001; total time=   0.0s\n",
      "[CV] END .........................................alpha=0.01; total time=   0.0s\n",
      "[CV] END .........................................alpha=0.01; total time=   0.0s\n",
      "[CV] END .........................................alpha=0.01; total time=   0.0s\n",
      "[CV] END .........................................alpha=0.01; total time=   0.0s\n",
      "[CV] END .........................................alpha=0.01; total time=   0.0s\n",
      "[CV] END ..........................................alpha=0.1; total time=   0.0s\n",
      "[CV] END ..........................................alpha=0.1; total time=   0.0s\n",
      "[CV] END ..........................................alpha=0.1; total time=   0.0s\n",
      "[CV] END ..........................................alpha=0.1; total time=   0.0s\n",
      "[CV] END ..........................................alpha=0.1; total time=   0.0s\n",
      "[CV] END ..........................................alpha=1.0; total time=   0.0s\n",
      "[CV] END ..........................................alpha=1.0; total time=   0.0s\n",
      "[CV] END ..........................................alpha=1.0; total time=   0.0s\n",
      "[CV] END ..........................................alpha=1.0; total time=   0.0s\n",
      "[CV] END ..........................................alpha=1.0; total time=   0.0s\n",
      "[CV] END .........................................alpha=10.0; total time=   0.0s\n",
      "[CV] END .........................................alpha=10.0; total time=   0.0s\n",
      "[CV] END .........................................alpha=10.0; total time=   0.0s\n",
      "[CV] END .........................................alpha=10.0; total time=   0.0s\n",
      "[CV] END .........................................alpha=10.0; total time=   0.0s\n",
      "[CV] END ........................................alpha=100.0; total time=   0.0s\n",
      "[CV] END ........................................alpha=100.0; total time=   0.0s\n",
      "[CV] END ........................................alpha=100.0; total time=   0.0s\n",
      "[CV] END ........................................alpha=100.0; total time=   0.0s\n",
      "[CV] END ........................................alpha=100.0; total time=   0.0s\n",
      "Ridge Regression: Best Parameters: {'alpha': 1.0}, R2 Score: 0.3379040024919143\n",
      "Fitting 5 folds for each of 8 candidates, totalling 40 fits\n"
     ]
    },
    {
     "name": "stderr",
     "output_type": "stream",
     "text": [
      "/usr/local/lib/python3.9/site-packages/sklearn/linear_model/_coordinate_descent.py:631: ConvergenceWarning: Objective did not converge. You might want to increase the number of iterations, check the scale of the features or consider increasing regularisation. Duality gap: 1.302e+04, tolerance: 7.208e+01\n",
      "  model = cd_fast.enet_coordinate_descent(\n"
     ]
    },
    {
     "name": "stdout",
     "output_type": "stream",
     "text": [
      "[CV] END ........................................alpha=1e-05; total time=   0.5s\n"
     ]
    },
    {
     "name": "stderr",
     "output_type": "stream",
     "text": [
      "/usr/local/lib/python3.9/site-packages/sklearn/linear_model/_coordinate_descent.py:631: ConvergenceWarning: Objective did not converge. You might want to increase the number of iterations, check the scale of the features or consider increasing regularisation. Duality gap: 1.288e+04, tolerance: 7.255e+01\n",
      "  model = cd_fast.enet_coordinate_descent(\n"
     ]
    },
    {
     "name": "stdout",
     "output_type": "stream",
     "text": [
      "[CV] END ........................................alpha=1e-05; total time=   0.5s\n"
     ]
    },
    {
     "name": "stderr",
     "output_type": "stream",
     "text": [
      "/usr/local/lib/python3.9/site-packages/sklearn/linear_model/_coordinate_descent.py:631: ConvergenceWarning: Objective did not converge. You might want to increase the number of iterations, check the scale of the features or consider increasing regularisation. Duality gap: 1.252e+04, tolerance: 7.183e+01\n",
      "  model = cd_fast.enet_coordinate_descent(\n"
     ]
    },
    {
     "name": "stdout",
     "output_type": "stream",
     "text": [
      "[CV] END ........................................alpha=1e-05; total time=   0.4s\n"
     ]
    },
    {
     "name": "stderr",
     "output_type": "stream",
     "text": [
      "/usr/local/lib/python3.9/site-packages/sklearn/linear_model/_coordinate_descent.py:631: ConvergenceWarning: Objective did not converge. You might want to increase the number of iterations, check the scale of the features or consider increasing regularisation. Duality gap: 7.218e+03, tolerance: 7.297e+01\n",
      "  model = cd_fast.enet_coordinate_descent(\n"
     ]
    },
    {
     "name": "stdout",
     "output_type": "stream",
     "text": [
      "[CV] END ........................................alpha=1e-05; total time=   0.4s\n"
     ]
    },
    {
     "name": "stderr",
     "output_type": "stream",
     "text": [
      "/usr/local/lib/python3.9/site-packages/sklearn/linear_model/_coordinate_descent.py:631: ConvergenceWarning: Objective did not converge. You might want to increase the number of iterations, check the scale of the features or consider increasing regularisation. Duality gap: 2.318e+04, tolerance: 7.214e+01\n",
      "  model = cd_fast.enet_coordinate_descent(\n"
     ]
    },
    {
     "name": "stdout",
     "output_type": "stream",
     "text": [
      "[CV] END ........................................alpha=1e-05; total time=   0.4s\n"
     ]
    },
    {
     "name": "stderr",
     "output_type": "stream",
     "text": [
      "/usr/local/lib/python3.9/site-packages/sklearn/linear_model/_coordinate_descent.py:631: ConvergenceWarning: Objective did not converge. You might want to increase the number of iterations, check the scale of the features or consider increasing regularisation. Duality gap: 1.409e+03, tolerance: 7.208e+01\n",
      "  model = cd_fast.enet_coordinate_descent(\n"
     ]
    },
    {
     "name": "stdout",
     "output_type": "stream",
     "text": [
      "[CV] END .......................................alpha=0.0001; total time=   0.5s\n"
     ]
    },
    {
     "name": "stderr",
     "output_type": "stream",
     "text": [
      "/usr/local/lib/python3.9/site-packages/sklearn/linear_model/_coordinate_descent.py:631: ConvergenceWarning: Objective did not converge. You might want to increase the number of iterations, check the scale of the features or consider increasing regularisation. Duality gap: 1.539e+03, tolerance: 7.255e+01\n",
      "  model = cd_fast.enet_coordinate_descent(\n"
     ]
    },
    {
     "name": "stdout",
     "output_type": "stream",
     "text": [
      "[CV] END .......................................alpha=0.0001; total time=   0.4s\n"
     ]
    },
    {
     "name": "stderr",
     "output_type": "stream",
     "text": [
      "/usr/local/lib/python3.9/site-packages/sklearn/linear_model/_coordinate_descent.py:631: ConvergenceWarning: Objective did not converge. You might want to increase the number of iterations, check the scale of the features or consider increasing regularisation. Duality gap: 1.551e+03, tolerance: 7.183e+01\n",
      "  model = cd_fast.enet_coordinate_descent(\n"
     ]
    },
    {
     "name": "stdout",
     "output_type": "stream",
     "text": [
      "[CV] END .......................................alpha=0.0001; total time=   0.4s\n"
     ]
    },
    {
     "name": "stderr",
     "output_type": "stream",
     "text": [
      "/usr/local/lib/python3.9/site-packages/sklearn/linear_model/_coordinate_descent.py:631: ConvergenceWarning: Objective did not converge. You might want to increase the number of iterations, check the scale of the features or consider increasing regularisation. Duality gap: 1.477e+03, tolerance: 7.297e+01\n",
      "  model = cd_fast.enet_coordinate_descent(\n"
     ]
    },
    {
     "name": "stdout",
     "output_type": "stream",
     "text": [
      "[CV] END .......................................alpha=0.0001; total time=   0.4s\n"
     ]
    },
    {
     "name": "stderr",
     "output_type": "stream",
     "text": [
      "/usr/local/lib/python3.9/site-packages/sklearn/linear_model/_coordinate_descent.py:631: ConvergenceWarning: Objective did not converge. You might want to increase the number of iterations, check the scale of the features or consider increasing regularisation. Duality gap: 1.307e+04, tolerance: 7.214e+01\n",
      "  model = cd_fast.enet_coordinate_descent(\n"
     ]
    },
    {
     "name": "stdout",
     "output_type": "stream",
     "text": [
      "[CV] END .......................................alpha=0.0001; total time=   0.4s\n"
     ]
    },
    {
     "name": "stderr",
     "output_type": "stream",
     "text": [
      "/usr/local/lib/python3.9/site-packages/sklearn/linear_model/_coordinate_descent.py:631: ConvergenceWarning: Objective did not converge. You might want to increase the number of iterations, check the scale of the features or consider increasing regularisation. Duality gap: 1.473e+03, tolerance: 7.208e+01\n",
      "  model = cd_fast.enet_coordinate_descent(\n"
     ]
    },
    {
     "name": "stdout",
     "output_type": "stream",
     "text": [
      "[CV] END ........................................alpha=0.001; total time=   0.4s\n"
     ]
    },
    {
     "name": "stderr",
     "output_type": "stream",
     "text": [
      "/usr/local/lib/python3.9/site-packages/sklearn/linear_model/_coordinate_descent.py:631: ConvergenceWarning: Objective did not converge. You might want to increase the number of iterations, check the scale of the features or consider increasing regularisation. Duality gap: 1.610e+03, tolerance: 7.255e+01\n",
      "  model = cd_fast.enet_coordinate_descent(\n"
     ]
    },
    {
     "name": "stdout",
     "output_type": "stream",
     "text": [
      "[CV] END ........................................alpha=0.001; total time=   0.4s\n"
     ]
    },
    {
     "name": "stderr",
     "output_type": "stream",
     "text": [
      "/usr/local/lib/python3.9/site-packages/sklearn/linear_model/_coordinate_descent.py:631: ConvergenceWarning: Objective did not converge. You might want to increase the number of iterations, check the scale of the features or consider increasing regularisation. Duality gap: 1.368e+03, tolerance: 7.183e+01\n",
      "  model = cd_fast.enet_coordinate_descent(\n"
     ]
    },
    {
     "name": "stdout",
     "output_type": "stream",
     "text": [
      "[CV] END ........................................alpha=0.001; total time=   0.5s\n"
     ]
    },
    {
     "name": "stderr",
     "output_type": "stream",
     "text": [
      "/usr/local/lib/python3.9/site-packages/sklearn/linear_model/_coordinate_descent.py:631: ConvergenceWarning: Objective did not converge. You might want to increase the number of iterations, check the scale of the features or consider increasing regularisation. Duality gap: 8.606e+03, tolerance: 7.297e+01\n",
      "  model = cd_fast.enet_coordinate_descent(\n"
     ]
    },
    {
     "name": "stdout",
     "output_type": "stream",
     "text": [
      "[CV] END ........................................alpha=0.001; total time=   0.4s\n"
     ]
    },
    {
     "name": "stderr",
     "output_type": "stream",
     "text": [
      "/usr/local/lib/python3.9/site-packages/sklearn/linear_model/_coordinate_descent.py:631: ConvergenceWarning: Objective did not converge. You might want to increase the number of iterations, check the scale of the features or consider increasing regularisation. Duality gap: 1.521e+03, tolerance: 7.214e+01\n",
      "  model = cd_fast.enet_coordinate_descent(\n"
     ]
    },
    {
     "name": "stdout",
     "output_type": "stream",
     "text": [
      "[CV] END ........................................alpha=0.001; total time=   0.4s\n",
      "[CV] END .........................................alpha=0.01; total time=   0.1s\n",
      "[CV] END .........................................alpha=0.01; total time=   0.1s\n",
      "[CV] END .........................................alpha=0.01; total time=   0.1s\n",
      "[CV] END .........................................alpha=0.01; total time=   0.1s\n",
      "[CV] END .........................................alpha=0.01; total time=   0.1s\n",
      "[CV] END ..........................................alpha=0.1; total time=   0.0s\n",
      "[CV] END ..........................................alpha=0.1; total time=   0.0s\n",
      "[CV] END ..........................................alpha=0.1; total time=   0.0s\n",
      "[CV] END ..........................................alpha=0.1; total time=   0.0s\n",
      "[CV] END ..........................................alpha=0.1; total time=   0.0s\n",
      "[CV] END ..........................................alpha=1.0; total time=   0.0s\n",
      "[CV] END ..........................................alpha=1.0; total time=   0.0s\n",
      "[CV] END ..........................................alpha=1.0; total time=   0.0s\n",
      "[CV] END ..........................................alpha=1.0; total time=   0.0s\n",
      "[CV] END ..........................................alpha=1.0; total time=   0.0s\n",
      "[CV] END .........................................alpha=10.0; total time=   0.0s\n",
      "[CV] END .........................................alpha=10.0; total time=   0.0s\n",
      "[CV] END .........................................alpha=10.0; total time=   0.0s\n",
      "[CV] END .........................................alpha=10.0; total time=   0.0s\n",
      "[CV] END .........................................alpha=10.0; total time=   0.0s\n",
      "[CV] END ........................................alpha=100.0; total time=   0.0s\n",
      "[CV] END ........................................alpha=100.0; total time=   0.0s\n",
      "[CV] END ........................................alpha=100.0; total time=   0.0s\n",
      "[CV] END ........................................alpha=100.0; total time=   0.0s\n",
      "[CV] END ........................................alpha=100.0; total time=   0.0s\n"
     ]
    },
    {
     "name": "stderr",
     "output_type": "stream",
     "text": [
      "/usr/local/lib/python3.9/site-packages/sklearn/linear_model/_coordinate_descent.py:631: ConvergenceWarning: Objective did not converge. You might want to increase the number of iterations, check the scale of the features or consider increasing regularisation. Duality gap: 1.944e+03, tolerance: 9.040e+01\n",
      "  model = cd_fast.enet_coordinate_descent(\n"
     ]
    },
    {
     "name": "stdout",
     "output_type": "stream",
     "text": [
      "Lasso Regression: Best Parameters: {'alpha': 0.001}, R2 Score: 0.33800572496235504\n",
      "Fitting 5 folds for each of 18 candidates, totalling 90 fits\n",
      "[CV] END .......................max_depth=5, n_estimators=50; total time=   0.4s\n",
      "[CV] END .......................max_depth=5, n_estimators=50; total time=   0.3s\n",
      "[CV] END .......................max_depth=5, n_estimators=50; total time=   0.4s\n",
      "[CV] END .......................max_depth=5, n_estimators=50; total time=   0.3s\n",
      "[CV] END .......................max_depth=5, n_estimators=50; total time=   0.4s\n",
      "[CV] END ......................max_depth=5, n_estimators=100; total time=   0.5s\n",
      "[CV] END ......................max_depth=5, n_estimators=100; total time=   0.6s\n",
      "[CV] END ......................max_depth=5, n_estimators=100; total time=   0.5s\n",
      "[CV] END ......................max_depth=5, n_estimators=100; total time=   0.5s\n",
      "[CV] END ......................max_depth=5, n_estimators=100; total time=   0.5s\n",
      "[CV] END ......................max_depth=5, n_estimators=200; total time=   1.0s\n",
      "[CV] END ......................max_depth=5, n_estimators=200; total time=   0.8s\n",
      "[CV] END ......................max_depth=5, n_estimators=200; total time=   1.0s\n",
      "[CV] END ......................max_depth=5, n_estimators=200; total time=   0.8s\n",
      "[CV] END ......................max_depth=5, n_estimators=200; total time=   0.9s\n",
      "[CV] END .......................max_depth=7, n_estimators=50; total time=   0.4s\n",
      "[CV] END .......................max_depth=7, n_estimators=50; total time=   0.5s\n",
      "[CV] END .......................max_depth=7, n_estimators=50; total time=   0.3s\n",
      "[CV] END .......................max_depth=7, n_estimators=50; total time=   0.4s\n",
      "[CV] END .......................max_depth=7, n_estimators=50; total time=   0.4s\n",
      "[CV] END ......................max_depth=7, n_estimators=100; total time=   0.7s\n",
      "[CV] END ......................max_depth=7, n_estimators=100; total time=   0.6s\n",
      "[CV] END ......................max_depth=7, n_estimators=100; total time=   0.8s\n",
      "[CV] END ......................max_depth=7, n_estimators=100; total time=   0.5s\n",
      "[CV] END ......................max_depth=7, n_estimators=100; total time=   0.6s\n",
      "[CV] END ......................max_depth=7, n_estimators=200; total time=   1.0s\n",
      "[CV] END ......................max_depth=7, n_estimators=200; total time=   1.0s\n",
      "[CV] END ......................max_depth=7, n_estimators=200; total time=   1.1s\n",
      "[CV] END ......................max_depth=7, n_estimators=200; total time=   1.1s\n",
      "[CV] END ......................max_depth=7, n_estimators=200; total time=   1.1s\n",
      "[CV] END ......................max_depth=10, n_estimators=50; total time=   0.5s\n",
      "[CV] END ......................max_depth=10, n_estimators=50; total time=   0.6s\n",
      "[CV] END ......................max_depth=10, n_estimators=50; total time=   0.5s\n",
      "[CV] END ......................max_depth=10, n_estimators=50; total time=   0.4s\n",
      "[CV] END ......................max_depth=10, n_estimators=50; total time=   0.6s\n",
      "[CV] END .....................max_depth=10, n_estimators=100; total time=   0.8s\n",
      "[CV] END .....................max_depth=10, n_estimators=100; total time=   0.8s\n",
      "[CV] END .....................max_depth=10, n_estimators=100; total time=   0.8s\n",
      "[CV] END .....................max_depth=10, n_estimators=100; total time=   0.8s\n",
      "[CV] END .....................max_depth=10, n_estimators=100; total time=   0.8s\n",
      "[CV] END .....................max_depth=10, n_estimators=200; total time=   1.4s\n",
      "[CV] END .....................max_depth=10, n_estimators=200; total time=   1.6s\n",
      "[CV] END .....................max_depth=10, n_estimators=200; total time=   1.3s\n",
      "[CV] END .....................max_depth=10, n_estimators=200; total time=   1.3s\n",
      "[CV] END .....................max_depth=10, n_estimators=200; total time=   1.4s\n",
      "[CV] END ......................max_depth=15, n_estimators=50; total time=   0.6s\n",
      "[CV] END ......................max_depth=15, n_estimators=50; total time=   0.6s\n",
      "[CV] END ......................max_depth=15, n_estimators=50; total time=   0.6s\n",
      "[CV] END ......................max_depth=15, n_estimators=50; total time=   0.6s\n",
      "[CV] END ......................max_depth=15, n_estimators=50; total time=   0.6s\n",
      "[CV] END .....................max_depth=15, n_estimators=100; total time=   1.1s\n",
      "[CV] END .....................max_depth=15, n_estimators=100; total time=   1.1s\n",
      "[CV] END .....................max_depth=15, n_estimators=100; total time=   1.1s\n",
      "[CV] END .....................max_depth=15, n_estimators=100; total time=   1.1s\n",
      "[CV] END .....................max_depth=15, n_estimators=100; total time=   0.9s\n",
      "[CV] END .....................max_depth=15, n_estimators=200; total time=   2.0s\n",
      "[CV] END .....................max_depth=15, n_estimators=200; total time=   1.7s\n",
      "[CV] END .....................max_depth=15, n_estimators=200; total time=   1.7s\n",
      "[CV] END .....................max_depth=15, n_estimators=200; total time=   1.7s\n",
      "[CV] END .....................max_depth=15, n_estimators=200; total time=   1.9s\n",
      "[CV] END ......................max_depth=20, n_estimators=50; total time=   0.8s\n",
      "[CV] END ......................max_depth=20, n_estimators=50; total time=   0.7s\n",
      "[CV] END ......................max_depth=20, n_estimators=50; total time=   0.6s\n",
      "[CV] END ......................max_depth=20, n_estimators=50; total time=   0.8s\n",
      "[CV] END ......................max_depth=20, n_estimators=50; total time=   0.7s\n",
      "[CV] END .....................max_depth=20, n_estimators=100; total time=   1.2s\n",
      "[CV] END .....................max_depth=20, n_estimators=100; total time=   1.1s\n",
      "[CV] END .....................max_depth=20, n_estimators=100; total time=   1.3s\n",
      "[CV] END .....................max_depth=20, n_estimators=100; total time=   1.2s\n",
      "[CV] END .....................max_depth=20, n_estimators=100; total time=   1.3s\n",
      "[CV] END .....................max_depth=20, n_estimators=200; total time=   2.2s\n",
      "[CV] END .....................max_depth=20, n_estimators=200; total time=   2.4s\n",
      "[CV] END .....................max_depth=20, n_estimators=200; total time=   2.1s\n",
      "[CV] END .....................max_depth=20, n_estimators=200; total time=   2.5s\n",
      "[CV] END .....................max_depth=20, n_estimators=200; total time=   2.4s\n",
      "[CV] END ......................max_depth=40, n_estimators=50; total time=   0.9s\n",
      "[CV] END ......................max_depth=40, n_estimators=50; total time=   0.8s\n",
      "[CV] END ......................max_depth=40, n_estimators=50; total time=   0.8s\n",
      "[CV] END ......................max_depth=40, n_estimators=50; total time=   0.8s\n",
      "[CV] END ......................max_depth=40, n_estimators=50; total time=   0.8s\n",
      "[CV] END .....................max_depth=40, n_estimators=100; total time=   1.4s\n",
      "[CV] END .....................max_depth=40, n_estimators=100; total time=   1.4s\n",
      "[CV] END .....................max_depth=40, n_estimators=100; total time=   1.3s\n",
      "[CV] END .....................max_depth=40, n_estimators=100; total time=   1.5s\n",
      "[CV] END .....................max_depth=40, n_estimators=100; total time=   1.5s\n",
      "[CV] END .....................max_depth=40, n_estimators=200; total time=   2.5s\n",
      "[CV] END .....................max_depth=40, n_estimators=200; total time=   2.6s\n",
      "[CV] END .....................max_depth=40, n_estimators=200; total time=   2.6s\n",
      "[CV] END .....................max_depth=40, n_estimators=200; total time=   2.7s\n",
      "[CV] END .....................max_depth=40, n_estimators=200; total time=   2.5s\n",
      "Random Forest Regressor: Best Parameters: {'max_depth': 20, 'n_estimators': 200}, R2 Score: 0.3950655442051011\n"
     ]
    }
   ],
   "source": [
    "# Split the df into train test split with 80:20 ratio \n",
    "\n",
    "X = df_usage_column_transformed.loc[:, df_usage_column_transformed.columns != 'total_fl_mbps']\n",
    "y = df_usage_column_transformed['total_fl_mbps']\n",
    "\n",
    "X_train, X_test, y_train, y_test = train_test_split(X, y, test_size=0.2, random_state=42)\n",
    "\n",
    "# Defining a set of regression models to be used for hyper parameter tuning\n",
    "\n",
    "regressors = {\n",
    "    'Linear Regression': (LinearRegression(), {}),\n",
    "    'Ridge Regression': (Ridge(fit_intercept=False), {'alpha': [0.001, 0.01, 0.1, 1.0, 10.0, 100.0]}),\n",
    "    'Lasso Regression': (Lasso(), {'alpha': [0.00001,0.0001,0.001,0.01, 0.1, 1.0, 10.0, 100.0]}),\n",
    "    'Random Forest Regressor': (RandomForestRegressor(n_jobs=-1), {'n_estimators': [ 50, 100, 200], 'max_depth': [5, 7, 10, 15, 20, 40]}),\n",
    "    #'Support Vector Regressor': (SVR(), {'C': [1, 10], 'kernel': ['linear', 'rbf']})\n",
    "}\n",
    "\n",
    "best_models = []\n",
    "# Perform grid search for each regressor\n",
    "for regressor_name, (regressor, param_grid) in regressors.items():\n",
    "    grid_search = GridSearchCV(regressor, param_grid, scoring='r2', cv=5, verbose=2)\n",
    "    grid_search.fit(X_train, y_train)\n",
    "\n",
    "    # Get the best estimator and make predictions\n",
    "    best_regressor = grid_search.best_estimator_\n",
    "    y_pred = best_regressor.predict(X_test)\n",
    "\n",
    "    # Calculate and print the R2 score\n",
    "\n",
    "    r2 = r2_score(y_test, y_pred)\n",
    "    print(f\"{regressor_name}: Best Parameters: {grid_search.best_params_}, R2 Score: {r2}\")\n",
    "    best_models.append({'regressor':regressor_name,'model':best_regressor})\n"
   ]
  },
  {
   "cell_type": "code",
   "execution_count": 61,
   "metadata": {},
   "outputs": [
    {
     "data": {
      "text/plain": [
       "'Random Forest Regressor'"
      ]
     },
     "metadata": {},
     "output_type": "display_data"
    },
    {
     "data": {
      "text/plain": [
       "array([0.00000000e+00, 7.84266701e-04, 2.62337621e-01, 9.13613984e-04,\n",
       "       6.79902078e-03, 8.79180913e-03, 1.05353171e-02, 7.89879845e-03,\n",
       "       7.26073116e-03, 7.10628781e-03, 8.76105127e-03, 2.57293921e-04,\n",
       "       1.33194207e-03, 8.44476228e-03, 2.28066207e-03, 2.17791713e-03,\n",
       "       2.21973989e-03, 2.11145056e-03, 1.86625591e-03, 1.75588372e-03,\n",
       "       2.15901474e-03, 3.83147250e-03, 9.49925674e-03, 7.68734900e-03,\n",
       "       5.66705094e-03, 5.80753254e-03, 5.85923004e-03, 4.35137920e-03,\n",
       "       5.76661372e-03, 4.99393343e-03, 5.34762000e-03, 3.94264421e-03,\n",
       "       2.93839209e-03, 2.81802082e-03, 7.54311405e-03, 4.42944296e-03,\n",
       "       3.62404275e-03, 3.24015375e-03, 7.40720035e-03, 1.06051525e-02,\n",
       "       7.97106798e-03, 4.67269937e-03, 8.68713770e-03, 6.62146180e-03,\n",
       "       7.45864612e-03, 6.19835851e-03, 3.01806290e-04, 1.38329191e-03,\n",
       "       1.10212795e-02, 2.21332591e-03, 2.03987099e-03, 2.18872513e-03,\n",
       "       2.11051933e-03, 1.87810467e-03, 1.82797939e-03, 3.33129626e-03,\n",
       "       3.57184082e-03, 9.94613013e-02, 5.34434026e-02, 2.07258073e-02,\n",
       "       8.27760928e-03, 0.00000000e+00, 0.00000000e+00, 0.00000000e+00,\n",
       "       0.00000000e+00, 1.09265699e-01, 8.99031160e-02, 9.42926116e-02,\n",
       "       0.00000000e+00])"
      ]
     },
     "metadata": {},
     "output_type": "display_data"
    }
   ],
   "source": [
    "display(best_models[3]['regressor'])\n",
    "display(best_models[3]['model'].feature_importances_)\n",
    "importances = best_models[3]['model'].feature_importances_"
   ]
  },
  {
   "cell_type": "code",
   "execution_count": 62,
   "metadata": {},
   "outputs": [
    {
     "data": {
      "image/png": "[encoded data removed]",
      "text/plain": [
       "<Figure size 1000x600 with 1 Axes>"
      ]
     },
     "metadata": {},
     "output_type": "display_data"
    }
   ],
   "source": [
    "# Sort feature importances in descending order\n",
    "indices = np.argsort(importances)[::-1]\n",
    "sorted_importances = importances[indices]\n",
    "sorted_features = X_test.columns[indices]\n",
    "\n",
    "# Plot the feature importances\n",
    "plt.figure(figsize=(10, 6))\n",
    "plt.title(\"Feature Importance\")\n",
    "plt.bar(range(X_test.shape[1]), sorted_importances, align=\"center\")\n",
    "plt.xticks(range(X_test.shape[1]), sorted_features, rotation=90)\n",
    "plt.tight_layout()\n",
    "plt.show()"
   ]
  },
  {
   "cell_type": "code",
   "execution_count": 63,
   "metadata": {},
   "outputs": [
    {
     "name": "stdout",
     "output_type": "stream",
     "text": [
      "Best Regressor's Scores: MAPE : 9.02, MAE : 5.14, MSE : 46.83, R2 : 0.3950655442051011\n"
     ]
    }
   ],
   "source": [
    "from sklearn.metrics import mean_absolute_percentage_error, r2_score, mean_squared_error, mean_absolute_error\n",
    "# Print mean absolute percentage error (MAPE), R2 score, and mean absolute error (MAE)\n",
    "\n",
    "\n",
    "best_regressor = best_models[3]['model']\n",
    "y_pred = best_regressor.predict(X_test)\n",
    "\n",
    "# Calculate and print the MAPE score\n",
    "mape = round(mean_absolute_percentage_error(y_test, y_pred),2)\n",
    "mae = round(mean_absolute_error(y_test, y_pred),2)\n",
    "mse = round(mean_squared_error(y_test, y_pred),2)\n",
    "r2 = r2_score(y_test, y_pred)\n",
    "print(\"Best Regressor's Scores: MAPE : {mape}, MAE : {mae}, MSE : {mse}, R2 : {r2}\".format(mape=mape,mse=mse,mae=mae,r2=r2))"
   ]
  },
  {
   "cell_type": "code",
   "execution_count": 64,
   "metadata": {},
   "outputs": [
    {
     "data": {
      "image/png": "[encoded data removed]",
      "text/plain": [
       "<Figure size 1000x600 with 1 Axes>"
      ]
     },
     "metadata": {},
     "output_type": "display_data"
    }
   ],
   "source": [
    "# Plot the predicted vs actual values\n",
    "plt.figure(figsize=(10, 6))\n",
    "plt.title(\"Predicted vs Actual\")\n",
    "plt.scatter(y_test, y_pred)\n",
    "plt.xlabel(\"Actual\")\n",
    "plt.ylabel(\"Predicted\")\n",
    "plt.show()\n"
   ]
  },
  {
   "cell_type": "code",
   "execution_count": null,
   "metadata": {},
   "outputs": [],
   "source": []
  }
 ],
 "metadata": {
  "kernelspec": {
   "display_name": "Python 3",
   "language": "python",
   "name": "python3"
  },
  "language_info": {
   "codemirror_mode": {
    "name": "ipython",
    "version": 3
   },
   "file_extension": ".py",
   "mimetype": "text/x-python",
   "name": "python",
   "nbconvert_exporter": "python",
   "pygments_lexer": "ipython3",
   "version": "3.9.15"
  },
  "orig_nbformat": 4
 },
 "nbformat": 4,
 "nbformat_minor": 2
}
